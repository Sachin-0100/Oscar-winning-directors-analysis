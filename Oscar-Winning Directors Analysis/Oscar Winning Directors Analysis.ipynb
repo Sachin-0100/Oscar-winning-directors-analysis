{
 "cells": [
  {
   "cell_type": "markdown",
   "id": "8a6a717a",
   "metadata": {},
   "source": [
    "# Oscar-Winning Directors Analysis"
   ]
  },
  {
   "cell_type": "markdown",
   "id": "8f8b117a",
   "metadata": {},
   "source": [
    "This dataset collects information on the Academy Award for Best Director winners from 1930 to 2019, and provides insight into the gender and racial disparity of filmmaking over time. It includes the winner's name, their respective award year, race, gender, nominated/winning film title, and the filmmakers' names. By looking at this data it is possible to identify emerging trends in cinema- such as who is dominating in terms of awards recognition- and consider how much progress has been made when it comes to equal opportunity within Hollywood. Examining Oscar winning directors over time can tell us a lot about its impact on systemic issues in our society as diversity increases among winners. To deepen our understanding of this award’s significance it is necessary to consider all factors included; from awarded directors’ gender to what kind of films are being supported by these awards annually. So come explore with us! Let's take an analysis deep dive into almost nine decades worth of cinematic history - starting from 1930"
   ]
  },
  {
   "cell_type": "markdown",
   "id": "9e0beb31",
   "metadata": {},
   "source": [
    "This dataset contains information about the Academy Award for Best Director winners from 1930 until 2019, including gender, race, director(s), film, and nomination/winner status\n",
    "\n",
    "- Year: The year in which the award was given. (Integer)\n",
    "\n",
    "- Gender: The gender of the director. (String)\n",
    "\n",
    "- Race: The race of the director. (String)\n",
    "\n",
    "- Director(s): The name of the director(s). (String)\n",
    "\n",
    "- Film: The title of the film that won the award. (String)\n",
    "\n",
    "- Nomination/Winner: Whether the director was nominated or won the award."
   ]
  },
  {
   "cell_type": "code",
   "execution_count": 1,
   "id": "b97d6365",
   "metadata": {},
   "outputs": [],
   "source": [
    "import numpy as np\n",
    "import pandas as pd\n",
    "import matplotlib.pyplot as plt\n",
    "import seaborn as sns"
   ]
  },
  {
   "cell_type": "code",
   "execution_count": 2,
   "id": "88db566e",
   "metadata": {},
   "outputs": [],
   "source": [
    "df = pd.read_csv('Oscar_Winners_-_Director[1].csv')"
   ]
  },
  {
   "cell_type": "code",
   "execution_count": 3,
   "id": "c3fc9111",
   "metadata": {},
   "outputs": [
    {
     "data": {
      "text/html": [
       "<div>\n",
       "<style scoped>\n",
       "    .dataframe tbody tr th:only-of-type {\n",
       "        vertical-align: middle;\n",
       "    }\n",
       "\n",
       "    .dataframe tbody tr th {\n",
       "        vertical-align: top;\n",
       "    }\n",
       "\n",
       "    .dataframe thead th {\n",
       "        text-align: right;\n",
       "    }\n",
       "</style>\n",
       "<table border=\"1\" class=\"dataframe\">\n",
       "  <thead>\n",
       "    <tr style=\"text-align: right;\">\n",
       "      <th></th>\n",
       "      <th>index</th>\n",
       "      <th>Year</th>\n",
       "      <th>Gender</th>\n",
       "      <th>Race</th>\n",
       "      <th>Director(s)</th>\n",
       "      <th>Film</th>\n",
       "      <th>Nomination/Winner</th>\n",
       "    </tr>\n",
       "  </thead>\n",
       "  <tbody>\n",
       "    <tr>\n",
       "      <th>0</th>\n",
       "      <td>0</td>\n",
       "      <td>1927/28</td>\n",
       "      <td>Male</td>\n",
       "      <td>White</td>\n",
       "      <td>Frank Borzage (Dramatic Picture)</td>\n",
       "      <td>7th Heaven</td>\n",
       "      <td>Winner</td>\n",
       "    </tr>\n",
       "    <tr>\n",
       "      <th>1</th>\n",
       "      <td>1</td>\n",
       "      <td>1927/28</td>\n",
       "      <td>Male</td>\n",
       "      <td>White</td>\n",
       "      <td>Herbert Brenon(Dramatic Picture)</td>\n",
       "      <td>Sorrell and Son</td>\n",
       "      <td>Nomination</td>\n",
       "    </tr>\n",
       "    <tr>\n",
       "      <th>2</th>\n",
       "      <td>2</td>\n",
       "      <td>1927/28</td>\n",
       "      <td>Male</td>\n",
       "      <td>White</td>\n",
       "      <td>King Vidor(Dramatic Picture)</td>\n",
       "      <td>The Crowd</td>\n",
       "      <td>Nomination</td>\n",
       "    </tr>\n",
       "    <tr>\n",
       "      <th>3</th>\n",
       "      <td>3</td>\n",
       "      <td>1927/28</td>\n",
       "      <td>Male</td>\n",
       "      <td>White</td>\n",
       "      <td>Lewis Milestone (Comedy Picture)</td>\n",
       "      <td>Two Arabian Knights</td>\n",
       "      <td>Winner</td>\n",
       "    </tr>\n",
       "    <tr>\n",
       "      <th>4</th>\n",
       "      <td>4</td>\n",
       "      <td>1927/28</td>\n",
       "      <td>Male</td>\n",
       "      <td>White</td>\n",
       "      <td>Ted Wilde(Comedy Picture)</td>\n",
       "      <td>Speedy</td>\n",
       "      <td>Nomination</td>\n",
       "    </tr>\n",
       "  </tbody>\n",
       "</table>\n",
       "</div>"
      ],
      "text/plain": [
       "   index      Year Gender   Race                       Director(s)  \\\n",
       "0      0  1927/28    Male  White  Frank Borzage (Dramatic Picture)   \n",
       "1      1  1927/28    Male  White  Herbert Brenon(Dramatic Picture)   \n",
       "2      2  1927/28    Male  White      King Vidor(Dramatic Picture)   \n",
       "3      3  1927/28    Male  White  Lewis Milestone (Comedy Picture)   \n",
       "4      4  1927/28    Male  White         Ted Wilde(Comedy Picture)   \n",
       "\n",
       "                  Film Nomination/Winner  \n",
       "0           7th Heaven            Winner  \n",
       "1      Sorrell and Son        Nomination  \n",
       "2            The Crowd        Nomination  \n",
       "3  Two Arabian Knights            Winner  \n",
       "4               Speedy        Nomination  "
      ]
     },
     "execution_count": 3,
     "metadata": {},
     "output_type": "execute_result"
    }
   ],
   "source": [
    "df.head()"
   ]
  },
  {
   "cell_type": "code",
   "execution_count": 4,
   "id": "ce1bcdec",
   "metadata": {},
   "outputs": [],
   "source": [
    "df.drop('index',axis=1,inplace=True)"
   ]
  },
  {
   "cell_type": "code",
   "execution_count": 5,
   "id": "28aa98a7",
   "metadata": {},
   "outputs": [
    {
     "data": {
      "text/plain": [
       "(456, 6)"
      ]
     },
     "execution_count": 5,
     "metadata": {},
     "output_type": "execute_result"
    }
   ],
   "source": [
    "df.shape"
   ]
  },
  {
   "cell_type": "code",
   "execution_count": 6,
   "id": "bbf16d5f",
   "metadata": {},
   "outputs": [
    {
     "data": {
      "text/html": [
       "<div>\n",
       "<style scoped>\n",
       "    .dataframe tbody tr th:only-of-type {\n",
       "        vertical-align: middle;\n",
       "    }\n",
       "\n",
       "    .dataframe tbody tr th {\n",
       "        vertical-align: top;\n",
       "    }\n",
       "\n",
       "    .dataframe thead th {\n",
       "        text-align: right;\n",
       "    }\n",
       "</style>\n",
       "<table border=\"1\" class=\"dataframe\">\n",
       "  <thead>\n",
       "    <tr style=\"text-align: right;\">\n",
       "      <th></th>\n",
       "      <th>Year</th>\n",
       "      <th>Gender</th>\n",
       "      <th>Race</th>\n",
       "      <th>Director(s)</th>\n",
       "      <th>Film</th>\n",
       "      <th>Nomination/Winner</th>\n",
       "    </tr>\n",
       "  </thead>\n",
       "  <tbody>\n",
       "    <tr>\n",
       "      <th>0</th>\n",
       "      <td>1927/28</td>\n",
       "      <td>Male</td>\n",
       "      <td>White</td>\n",
       "      <td>Frank Borzage (Dramatic Picture)</td>\n",
       "      <td>7th Heaven</td>\n",
       "      <td>Winner</td>\n",
       "    </tr>\n",
       "    <tr>\n",
       "      <th>1</th>\n",
       "      <td>1927/28</td>\n",
       "      <td>Male</td>\n",
       "      <td>White</td>\n",
       "      <td>Herbert Brenon(Dramatic Picture)</td>\n",
       "      <td>Sorrell and Son</td>\n",
       "      <td>Nomination</td>\n",
       "    </tr>\n",
       "  </tbody>\n",
       "</table>\n",
       "</div>"
      ],
      "text/plain": [
       "       Year Gender   Race                       Director(s)             Film  \\\n",
       "0  1927/28    Male  White  Frank Borzage (Dramatic Picture)       7th Heaven   \n",
       "1  1927/28    Male  White  Herbert Brenon(Dramatic Picture)  Sorrell and Son   \n",
       "\n",
       "  Nomination/Winner  \n",
       "0            Winner  \n",
       "1        Nomination  "
      ]
     },
     "execution_count": 6,
     "metadata": {},
     "output_type": "execute_result"
    }
   ],
   "source": [
    "df.head(2)"
   ]
  },
  {
   "cell_type": "code",
   "execution_count": 7,
   "id": "247e69fd",
   "metadata": {},
   "outputs": [
    {
     "name": "stdout",
     "output_type": "stream",
     "text": [
      "<class 'pandas.core.frame.DataFrame'>\n",
      "RangeIndex: 456 entries, 0 to 455\n",
      "Data columns (total 6 columns):\n",
      " #   Column             Non-Null Count  Dtype \n",
      "---  ------             --------------  ----- \n",
      " 0   Year               455 non-null    object\n",
      " 1   Gender             455 non-null    object\n",
      " 2   Race               455 non-null    object\n",
      " 3   Director(s)        455 non-null    object\n",
      " 4   Film               455 non-null    object\n",
      " 5   Nomination/Winner  455 non-null    object\n",
      "dtypes: object(6)\n",
      "memory usage: 21.5+ KB\n"
     ]
    }
   ],
   "source": [
    "df.info()"
   ]
  },
  {
   "cell_type": "code",
   "execution_count": 8,
   "id": "1d448849",
   "metadata": {},
   "outputs": [
    {
     "data": {
      "text/html": [
       "<div>\n",
       "<style scoped>\n",
       "    .dataframe tbody tr th:only-of-type {\n",
       "        vertical-align: middle;\n",
       "    }\n",
       "\n",
       "    .dataframe tbody tr th {\n",
       "        vertical-align: top;\n",
       "    }\n",
       "\n",
       "    .dataframe thead th {\n",
       "        text-align: right;\n",
       "    }\n",
       "</style>\n",
       "<table border=\"1\" class=\"dataframe\">\n",
       "  <thead>\n",
       "    <tr style=\"text-align: right;\">\n",
       "      <th></th>\n",
       "      <th>Year</th>\n",
       "      <th>Gender</th>\n",
       "      <th>Race</th>\n",
       "      <th>Director(s)</th>\n",
       "      <th>Film</th>\n",
       "      <th>Nomination/Winner</th>\n",
       "    </tr>\n",
       "  </thead>\n",
       "  <tbody>\n",
       "    <tr>\n",
       "      <th>count</th>\n",
       "      <td>455</td>\n",
       "      <td>455</td>\n",
       "      <td>455</td>\n",
       "      <td>455</td>\n",
       "      <td>455</td>\n",
       "      <td>455</td>\n",
       "    </tr>\n",
       "    <tr>\n",
       "      <th>unique</th>\n",
       "      <td>92</td>\n",
       "      <td>2</td>\n",
       "      <td>2</td>\n",
       "      <td>240</td>\n",
       "      <td>454</td>\n",
       "      <td>2</td>\n",
       "    </tr>\n",
       "    <tr>\n",
       "      <th>top</th>\n",
       "      <td>1928/1929</td>\n",
       "      <td>Male</td>\n",
       "      <td>White</td>\n",
       "      <td>William Wyler</td>\n",
       "      <td>Heaven Can Wait</td>\n",
       "      <td>Nomination</td>\n",
       "    </tr>\n",
       "    <tr>\n",
       "      <th>freq</th>\n",
       "      <td>7</td>\n",
       "      <td>450</td>\n",
       "      <td>449</td>\n",
       "      <td>12</td>\n",
       "      <td>2</td>\n",
       "      <td>362</td>\n",
       "    </tr>\n",
       "  </tbody>\n",
       "</table>\n",
       "</div>"
      ],
      "text/plain": [
       "             Year Gender   Race    Director(s)             Film  \\\n",
       "count         455    455    455            455              455   \n",
       "unique         92      2      2            240              454   \n",
       "top     1928/1929   Male  White  William Wyler  Heaven Can Wait   \n",
       "freq            7    450    449             12                2   \n",
       "\n",
       "       Nomination/Winner  \n",
       "count                455  \n",
       "unique                 2  \n",
       "top           Nomination  \n",
       "freq                 362  "
      ]
     },
     "execution_count": 8,
     "metadata": {},
     "output_type": "execute_result"
    }
   ],
   "source": [
    "df.describe()"
   ]
  },
  {
   "cell_type": "code",
   "execution_count": 9,
   "id": "8cea73cf",
   "metadata": {},
   "outputs": [],
   "source": [
    "df['Year'] = df['Year'].str.split('/').str[0]"
   ]
  },
  {
   "cell_type": "code",
   "execution_count": 10,
   "id": "a0a440c7",
   "metadata": {},
   "outputs": [
    {
     "data": {
      "text/html": [
       "<div>\n",
       "<style scoped>\n",
       "    .dataframe tbody tr th:only-of-type {\n",
       "        vertical-align: middle;\n",
       "    }\n",
       "\n",
       "    .dataframe tbody tr th {\n",
       "        vertical-align: top;\n",
       "    }\n",
       "\n",
       "    .dataframe thead th {\n",
       "        text-align: right;\n",
       "    }\n",
       "</style>\n",
       "<table border=\"1\" class=\"dataframe\">\n",
       "  <thead>\n",
       "    <tr style=\"text-align: right;\">\n",
       "      <th></th>\n",
       "      <th>Year</th>\n",
       "      <th>Gender</th>\n",
       "      <th>Race</th>\n",
       "      <th>Director(s)</th>\n",
       "      <th>Film</th>\n",
       "      <th>Nomination/Winner</th>\n",
       "    </tr>\n",
       "  </thead>\n",
       "  <tbody>\n",
       "    <tr>\n",
       "      <th>0</th>\n",
       "      <td>1927</td>\n",
       "      <td>Male</td>\n",
       "      <td>White</td>\n",
       "      <td>Frank Borzage (Dramatic Picture)</td>\n",
       "      <td>7th Heaven</td>\n",
       "      <td>Winner</td>\n",
       "    </tr>\n",
       "    <tr>\n",
       "      <th>1</th>\n",
       "      <td>1927</td>\n",
       "      <td>Male</td>\n",
       "      <td>White</td>\n",
       "      <td>Herbert Brenon(Dramatic Picture)</td>\n",
       "      <td>Sorrell and Son</td>\n",
       "      <td>Nomination</td>\n",
       "    </tr>\n",
       "    <tr>\n",
       "      <th>2</th>\n",
       "      <td>1927</td>\n",
       "      <td>Male</td>\n",
       "      <td>White</td>\n",
       "      <td>King Vidor(Dramatic Picture)</td>\n",
       "      <td>The Crowd</td>\n",
       "      <td>Nomination</td>\n",
       "    </tr>\n",
       "    <tr>\n",
       "      <th>3</th>\n",
       "      <td>1927</td>\n",
       "      <td>Male</td>\n",
       "      <td>White</td>\n",
       "      <td>Lewis Milestone (Comedy Picture)</td>\n",
       "      <td>Two Arabian Knights</td>\n",
       "      <td>Winner</td>\n",
       "    </tr>\n",
       "    <tr>\n",
       "      <th>4</th>\n",
       "      <td>1927</td>\n",
       "      <td>Male</td>\n",
       "      <td>White</td>\n",
       "      <td>Ted Wilde(Comedy Picture)</td>\n",
       "      <td>Speedy</td>\n",
       "      <td>Nomination</td>\n",
       "    </tr>\n",
       "  </tbody>\n",
       "</table>\n",
       "</div>"
      ],
      "text/plain": [
       "   Year Gender   Race                       Director(s)                 Film  \\\n",
       "0  1927   Male  White  Frank Borzage (Dramatic Picture)           7th Heaven   \n",
       "1  1927   Male  White  Herbert Brenon(Dramatic Picture)      Sorrell and Son   \n",
       "2  1927   Male  White      King Vidor(Dramatic Picture)            The Crowd   \n",
       "3  1927   Male  White  Lewis Milestone (Comedy Picture)  Two Arabian Knights   \n",
       "4  1927   Male  White         Ted Wilde(Comedy Picture)               Speedy   \n",
       "\n",
       "  Nomination/Winner  \n",
       "0            Winner  \n",
       "1        Nomination  \n",
       "2        Nomination  \n",
       "3            Winner  \n",
       "4        Nomination  "
      ]
     },
     "execution_count": 10,
     "metadata": {},
     "output_type": "execute_result"
    }
   ],
   "source": [
    "df.head()"
   ]
  },
  {
   "cell_type": "code",
   "execution_count": 11,
   "id": "dbab0f80",
   "metadata": {},
   "outputs": [],
   "source": [
    "df = df.rename(columns={'Director(s)' : 'Directors'})"
   ]
  },
  {
   "cell_type": "code",
   "execution_count": 12,
   "id": "79246b32",
   "metadata": {},
   "outputs": [
    {
     "data": {
      "text/plain": [
       "<AxesSubplot:xlabel='Gender', ylabel='count'>"
      ]
     },
     "execution_count": 12,
     "metadata": {},
     "output_type": "execute_result"
    },
    {
     "data": {
      "image/png": "[encoded data removed]",
      "text/plain": [
       "<Figure size 720x432 with 1 Axes>"
      ]
     },
     "metadata": {
      "needs_background": "light"
     },
     "output_type": "display_data"
    }
   ],
   "source": [
    "plt.figure(figsize=(10,6))\n",
    "sns.countplot(x='Gender',data=df,hue='Nomination/Winner',color='c')"
   ]
  },
  {
   "cell_type": "markdown",
   "id": "4d728f04",
   "metadata": {},
   "source": [
    "- Male Directors has won most of the Oscar award\n",
    "- most of the male Directors has appeared in oscar"
   ]
  },
  {
   "cell_type": "code",
   "execution_count": 13,
   "id": "82c28ac4",
   "metadata": {},
   "outputs": [
    {
     "data": {
      "text/plain": [
       "<AxesSubplot:xlabel='Race', ylabel='count'>"
      ]
     },
     "execution_count": 13,
     "metadata": {},
     "output_type": "execute_result"
    },
    {
     "data": {
      "image/png": "[encoded data removed]",
      "text/plain": [
       "<Figure size 720x432 with 1 Axes>"
      ]
     },
     "metadata": {
      "needs_background": "light"
     },
     "output_type": "display_data"
    }
   ],
   "source": [
    "plt.figure(figsize=(10,6))\n",
    "sns.countplot(x='Race',data=df,hue='Nomination/Winner',color='r')"
   ]
  },
  {
   "cell_type": "markdown",
   "id": "9dc13593",
   "metadata": {},
   "source": [
    "- White race people have won and nominated most in oscar"
   ]
  },
  {
   "cell_type": "code",
   "execution_count": 14,
   "id": "3bfdfa3c",
   "metadata": {},
   "outputs": [
    {
     "data": {
      "text/plain": [
       "93"
      ]
     },
     "execution_count": 14,
     "metadata": {},
     "output_type": "execute_result"
    }
   ],
   "source": [
    "df[(df['Nomination/Winner']=='Winner')]['Directors'].count()"
   ]
  },
  {
   "cell_type": "markdown",
   "id": "ebe49d53",
   "metadata": {},
   "source": [
    "- 93 Directors have won oscar from 1927 until 2019"
   ]
  },
  {
   "cell_type": "code",
   "execution_count": 15,
   "id": "0ff23b41",
   "metadata": {},
   "outputs": [
    {
     "data": {
      "text/plain": [
       "<AxesSubplot:xlabel='Nomination/Winner', ylabel='count'>"
      ]
     },
     "execution_count": 15,
     "metadata": {},
     "output_type": "execute_result"
    },
    {
     "data": {
      "image/png": "[encoded data removed]",
      "text/plain": [
       "<Figure size 720x432 with 1 Axes>"
      ]
     },
     "metadata": {
      "needs_background": "light"
     },
     "output_type": "display_data"
    }
   ],
   "source": [
    "plt.figure(figsize=(10,6))\n",
    "sns.countplot(x='Nomination/Winner',data=df,color='y')"
   ]
  },
  {
   "cell_type": "code",
   "execution_count": 16,
   "id": "5a5144a1",
   "metadata": {},
   "outputs": [],
   "source": [
    "Film_won = df[(df['Nomination/Winner']=='Winner')]['Film']"
   ]
  },
  {
   "cell_type": "code",
   "execution_count": 17,
   "id": "f5f077a3",
   "metadata": {},
   "outputs": [
    {
     "data": {
      "text/plain": [
       "['7th Heaven',\n",
       " 'Two Arabian Knights',\n",
       " 'The Divine Lady',\n",
       " 'All Quiet on the Western Front',\n",
       " 'Skippy',\n",
       " 'Bad Girl',\n",
       " 'Cavalcade',\n",
       " 'It Happened One Night',\n",
       " 'The Informer',\n",
       " 'Mr. Deeds Goes to Town',\n",
       " 'The Awful Truth',\n",
       " \"You Can't Take It with You\",\n",
       " 'Gone with the Wind',\n",
       " 'The Grapes of Wrath',\n",
       " 'How Green Was My Valley',\n",
       " 'Mrs. Miniver',\n",
       " 'Casablanca',\n",
       " 'Going My Way',\n",
       " 'The Lost Weekend',\n",
       " 'The Best Years of Our Lives',\n",
       " \"Gentleman's Agreement\",\n",
       " 'The Treasure of the Sierra Madre',\n",
       " 'A Letter to Three Wives',\n",
       " 'All About Eve',\n",
       " 'A Place in the Sun',\n",
       " 'The Quiet Man',\n",
       " 'From Here to Eternity',\n",
       " 'On the Waterfront',\n",
       " 'Marty',\n",
       " 'Giant',\n",
       " 'The Bridge on the River Kwai',\n",
       " 'Gigi',\n",
       " 'Ben-Hur',\n",
       " 'The Apartment',\n",
       " 'West Side Story',\n",
       " 'Lawrence of Arabia',\n",
       " 'Tom Jones',\n",
       " 'My Fair Lady',\n",
       " 'The Sound of Music',\n",
       " 'A Man for All Seasons',\n",
       " 'The Graduate',\n",
       " 'Oliver!',\n",
       " 'Midnight Cowboy',\n",
       " 'Patton',\n",
       " 'The French Connection',\n",
       " 'Cabaret',\n",
       " 'The Sting',\n",
       " 'The Godfather Part II',\n",
       " \"One Flew Over the Cuckoo's Nest\",\n",
       " 'Rocky',\n",
       " 'Annie Hall',\n",
       " 'The Deer Hunter',\n",
       " 'Kramer vs. Kramer',\n",
       " 'Ordinary People',\n",
       " 'Reds',\n",
       " 'Gandhi',\n",
       " 'Terms of Endearment',\n",
       " 'Amadeus',\n",
       " 'Out of Africa',\n",
       " 'Platoon',\n",
       " 'The Last Emperor',\n",
       " 'Rain Man',\n",
       " 'Born on the Fourth of July',\n",
       " 'Dances with Wolves',\n",
       " 'The Silence of the Lambs',\n",
       " 'Unforgiven',\n",
       " \"Schindler's List\",\n",
       " 'Forrest Gump',\n",
       " 'Braveheart',\n",
       " 'The English Patient',\n",
       " 'Titanic',\n",
       " 'Saving Private Ryan',\n",
       " 'American Beauty',\n",
       " 'Traffic',\n",
       " 'A Beautiful Mind',\n",
       " 'The Pianist',\n",
       " 'The Lord of the Rings: The Return of the King',\n",
       " 'Million Dollar Baby',\n",
       " 'Brokeback Mountain',\n",
       " 'The Departed',\n",
       " 'No Country for Old Men',\n",
       " 'Slumdog Millionaire',\n",
       " 'The Hurt Locker',\n",
       " \"The King's Speech\",\n",
       " 'The Artist',\n",
       " 'Life of Pi',\n",
       " 'Gravity',\n",
       " 'Birdman',\n",
       " 'The Revenant',\n",
       " 'La La Land',\n",
       " 'The Shape of Water',\n",
       " 'Roma',\n",
       " 'Parasite']"
      ]
     },
     "execution_count": 17,
     "metadata": {},
     "output_type": "execute_result"
    }
   ],
   "source": [
    "list(Film_won)"
   ]
  },
  {
   "cell_type": "code",
   "execution_count": 18,
   "id": "c4547bb1",
   "metadata": {},
   "outputs": [
    {
     "data": {
      "text/html": [
       "<div>\n",
       "<style scoped>\n",
       "    .dataframe tbody tr th:only-of-type {\n",
       "        vertical-align: middle;\n",
       "    }\n",
       "\n",
       "    .dataframe tbody tr th {\n",
       "        vertical-align: top;\n",
       "    }\n",
       "\n",
       "    .dataframe thead th {\n",
       "        text-align: right;\n",
       "    }\n",
       "</style>\n",
       "<table border=\"1\" class=\"dataframe\">\n",
       "  <thead>\n",
       "    <tr style=\"text-align: right;\">\n",
       "      <th></th>\n",
       "      <th>Film</th>\n",
       "      <th>Year</th>\n",
       "    </tr>\n",
       "  </thead>\n",
       "  <tbody>\n",
       "    <tr>\n",
       "      <th>0</th>\n",
       "      <td>7th Heaven</td>\n",
       "      <td>1927</td>\n",
       "    </tr>\n",
       "    <tr>\n",
       "      <th>3</th>\n",
       "      <td>Two Arabian Knights</td>\n",
       "      <td>1927</td>\n",
       "    </tr>\n",
       "    <tr>\n",
       "      <th>5</th>\n",
       "      <td>The Divine Lady</td>\n",
       "      <td>1928</td>\n",
       "    </tr>\n",
       "    <tr>\n",
       "      <th>12</th>\n",
       "      <td>All Quiet on the Western Front</td>\n",
       "      <td>1929</td>\n",
       "    </tr>\n",
       "    <tr>\n",
       "      <th>18</th>\n",
       "      <td>Skippy</td>\n",
       "      <td>1930</td>\n",
       "    </tr>\n",
       "    <tr>\n",
       "      <th>...</th>\n",
       "      <td>...</td>\n",
       "      <td>...</td>\n",
       "    </tr>\n",
       "    <tr>\n",
       "      <th>430</th>\n",
       "      <td>The Revenant</td>\n",
       "      <td>2015</td>\n",
       "    </tr>\n",
       "    <tr>\n",
       "      <th>435</th>\n",
       "      <td>La La Land</td>\n",
       "      <td>2016</td>\n",
       "    </tr>\n",
       "    <tr>\n",
       "      <th>440</th>\n",
       "      <td>The Shape of Water</td>\n",
       "      <td>2017</td>\n",
       "    </tr>\n",
       "    <tr>\n",
       "      <th>445</th>\n",
       "      <td>Roma</td>\n",
       "      <td>2018</td>\n",
       "    </tr>\n",
       "    <tr>\n",
       "      <th>450</th>\n",
       "      <td>Parasite</td>\n",
       "      <td>2019</td>\n",
       "    </tr>\n",
       "  </tbody>\n",
       "</table>\n",
       "<p>93 rows × 2 columns</p>\n",
       "</div>"
      ],
      "text/plain": [
       "                               Film  Year\n",
       "0                        7th Heaven  1927\n",
       "3               Two Arabian Knights  1927\n",
       "5                   The Divine Lady  1928\n",
       "12   All Quiet on the Western Front  1929\n",
       "18                           Skippy  1930\n",
       "..                              ...   ...\n",
       "430                    The Revenant  2015\n",
       "435                      La La Land  2016\n",
       "440              The Shape of Water  2017\n",
       "445                            Roma  2018\n",
       "450                        Parasite  2019\n",
       "\n",
       "[93 rows x 2 columns]"
      ]
     },
     "execution_count": 18,
     "metadata": {},
     "output_type": "execute_result"
    }
   ],
   "source": [
    "df[(df['Nomination/Winner']=='Winner')][['Film','Year']]"
   ]
  },
  {
   "cell_type": "code",
   "execution_count": 19,
   "id": "cc3b6153",
   "metadata": {},
   "outputs": [],
   "source": [
    "#cleaning data "
   ]
  },
  {
   "cell_type": "code",
   "execution_count": 20,
   "id": "c68dd377",
   "metadata": {},
   "outputs": [],
   "source": [
    "df[['Director','Genres']] = df['Directors'].str.split('(',n=1,expand = True)"
   ]
  },
  {
   "cell_type": "code",
   "execution_count": 21,
   "id": "862d995e",
   "metadata": {},
   "outputs": [
    {
     "data": {
      "text/plain": [
       "1"
      ]
     },
     "execution_count": 21,
     "metadata": {},
     "output_type": "execute_result"
    }
   ],
   "source": [
    "df['Director'].isnull().sum()"
   ]
  },
  {
   "cell_type": "code",
   "execution_count": 22,
   "id": "4fecbaed",
   "metadata": {},
   "outputs": [
    {
     "data": {
      "text/plain": [
       "239"
      ]
     },
     "execution_count": 22,
     "metadata": {},
     "output_type": "execute_result"
    }
   ],
   "source": [
    "df['Director'].nunique()"
   ]
  },
  {
   "cell_type": "code",
   "execution_count": 23,
   "id": "7469a8f7",
   "metadata": {},
   "outputs": [],
   "source": [
    "df['Genres'] = df['Genres'].str.rstrip(')')"
   ]
  },
  {
   "cell_type": "code",
   "execution_count": 24,
   "id": "8f36bbfe",
   "metadata": {},
   "outputs": [
    {
     "data": {
      "text/plain": [
       "451"
      ]
     },
     "execution_count": 24,
     "metadata": {},
     "output_type": "execute_result"
    }
   ],
   "source": [
    "df['Genres'].isnull().sum()"
   ]
  },
  {
   "cell_type": "code",
   "execution_count": 25,
   "id": "65597c0c",
   "metadata": {},
   "outputs": [],
   "source": [
    "df.drop('Genres',axis=1,inplace=True)"
   ]
  },
  {
   "cell_type": "code",
   "execution_count": 26,
   "id": "6fc902c9",
   "metadata": {},
   "outputs": [
    {
     "data": {
      "text/html": [
       "<div>\n",
       "<style scoped>\n",
       "    .dataframe tbody tr th:only-of-type {\n",
       "        vertical-align: middle;\n",
       "    }\n",
       "\n",
       "    .dataframe tbody tr th {\n",
       "        vertical-align: top;\n",
       "    }\n",
       "\n",
       "    .dataframe thead th {\n",
       "        text-align: right;\n",
       "    }\n",
       "</style>\n",
       "<table border=\"1\" class=\"dataframe\">\n",
       "  <thead>\n",
       "    <tr style=\"text-align: right;\">\n",
       "      <th></th>\n",
       "      <th>Year</th>\n",
       "      <th>Gender</th>\n",
       "      <th>Race</th>\n",
       "      <th>Directors</th>\n",
       "      <th>Film</th>\n",
       "      <th>Nomination/Winner</th>\n",
       "      <th>Director</th>\n",
       "    </tr>\n",
       "  </thead>\n",
       "  <tbody>\n",
       "    <tr>\n",
       "      <th>0</th>\n",
       "      <td>1927</td>\n",
       "      <td>Male</td>\n",
       "      <td>White</td>\n",
       "      <td>Frank Borzage (Dramatic Picture)</td>\n",
       "      <td>7th Heaven</td>\n",
       "      <td>Winner</td>\n",
       "      <td>Frank Borzage</td>\n",
       "    </tr>\n",
       "    <tr>\n",
       "      <th>1</th>\n",
       "      <td>1927</td>\n",
       "      <td>Male</td>\n",
       "      <td>White</td>\n",
       "      <td>Herbert Brenon(Dramatic Picture)</td>\n",
       "      <td>Sorrell and Son</td>\n",
       "      <td>Nomination</td>\n",
       "      <td>Herbert Brenon</td>\n",
       "    </tr>\n",
       "  </tbody>\n",
       "</table>\n",
       "</div>"
      ],
      "text/plain": [
       "   Year Gender   Race                         Directors             Film  \\\n",
       "0  1927   Male  White  Frank Borzage (Dramatic Picture)       7th Heaven   \n",
       "1  1927   Male  White  Herbert Brenon(Dramatic Picture)  Sorrell and Son   \n",
       "\n",
       "  Nomination/Winner        Director  \n",
       "0            Winner  Frank Borzage   \n",
       "1        Nomination  Herbert Brenon  "
      ]
     },
     "execution_count": 26,
     "metadata": {},
     "output_type": "execute_result"
    }
   ],
   "source": [
    "df.head(2)"
   ]
  },
  {
   "cell_type": "code",
   "execution_count": 27,
   "id": "5ac10018",
   "metadata": {},
   "outputs": [],
   "source": [
    "df.drop('Directors',axis=1,inplace=True)"
   ]
  },
  {
   "cell_type": "code",
   "execution_count": 28,
   "id": "934c93df",
   "metadata": {},
   "outputs": [],
   "source": [
    "df = df.dropna()"
   ]
  },
  {
   "cell_type": "code",
   "execution_count": 29,
   "id": "7995fbe9",
   "metadata": {},
   "outputs": [
    {
     "data": {
      "text/plain": [
       "0"
      ]
     },
     "execution_count": 29,
     "metadata": {},
     "output_type": "execute_result"
    }
   ],
   "source": [
    "df.isnull().sum().sum()"
   ]
  },
  {
   "cell_type": "code",
   "execution_count": 30,
   "id": "a0c82b2e",
   "metadata": {},
   "outputs": [
    {
     "data": {
      "text/html": [
       "<div>\n",
       "<style scoped>\n",
       "    .dataframe tbody tr th:only-of-type {\n",
       "        vertical-align: middle;\n",
       "    }\n",
       "\n",
       "    .dataframe tbody tr th {\n",
       "        vertical-align: top;\n",
       "    }\n",
       "\n",
       "    .dataframe thead th {\n",
       "        text-align: right;\n",
       "    }\n",
       "</style>\n",
       "<table border=\"1\" class=\"dataframe\">\n",
       "  <thead>\n",
       "    <tr style=\"text-align: right;\">\n",
       "      <th></th>\n",
       "      <th>Year</th>\n",
       "      <th>Gender</th>\n",
       "      <th>Race</th>\n",
       "      <th>Film</th>\n",
       "      <th>Nomination/Winner</th>\n",
       "      <th>Director</th>\n",
       "    </tr>\n",
       "  </thead>\n",
       "  <tbody>\n",
       "    <tr>\n",
       "      <th>0</th>\n",
       "      <td>1927</td>\n",
       "      <td>Male</td>\n",
       "      <td>White</td>\n",
       "      <td>7th Heaven</td>\n",
       "      <td>Winner</td>\n",
       "      <td>Frank Borzage</td>\n",
       "    </tr>\n",
       "    <tr>\n",
       "      <th>1</th>\n",
       "      <td>1927</td>\n",
       "      <td>Male</td>\n",
       "      <td>White</td>\n",
       "      <td>Sorrell and Son</td>\n",
       "      <td>Nomination</td>\n",
       "      <td>Herbert Brenon</td>\n",
       "    </tr>\n",
       "    <tr>\n",
       "      <th>2</th>\n",
       "      <td>1927</td>\n",
       "      <td>Male</td>\n",
       "      <td>White</td>\n",
       "      <td>The Crowd</td>\n",
       "      <td>Nomination</td>\n",
       "      <td>King Vidor</td>\n",
       "    </tr>\n",
       "    <tr>\n",
       "      <th>3</th>\n",
       "      <td>1927</td>\n",
       "      <td>Male</td>\n",
       "      <td>White</td>\n",
       "      <td>Two Arabian Knights</td>\n",
       "      <td>Winner</td>\n",
       "      <td>Lewis Milestone</td>\n",
       "    </tr>\n",
       "    <tr>\n",
       "      <th>4</th>\n",
       "      <td>1927</td>\n",
       "      <td>Male</td>\n",
       "      <td>White</td>\n",
       "      <td>Speedy</td>\n",
       "      <td>Nomination</td>\n",
       "      <td>Ted Wilde</td>\n",
       "    </tr>\n",
       "  </tbody>\n",
       "</table>\n",
       "</div>"
      ],
      "text/plain": [
       "   Year Gender   Race                 Film Nomination/Winner          Director\n",
       "0  1927   Male  White           7th Heaven            Winner    Frank Borzage \n",
       "1  1927   Male  White      Sorrell and Son        Nomination    Herbert Brenon\n",
       "2  1927   Male  White            The Crowd        Nomination        King Vidor\n",
       "3  1927   Male  White  Two Arabian Knights            Winner  Lewis Milestone \n",
       "4  1927   Male  White               Speedy        Nomination         Ted Wilde"
      ]
     },
     "execution_count": 30,
     "metadata": {},
     "output_type": "execute_result"
    }
   ],
   "source": [
    "df.head()"
   ]
  },
  {
   "cell_type": "code",
   "execution_count": 31,
   "id": "f389c9ca",
   "metadata": {},
   "outputs": [
    {
     "data": {
      "text/plain": [
       "William Wyler       12\n",
       "Martin Scorsese      9\n",
       "Billy Wilder         8\n",
       "David Lean           7\n",
       "Steven Spielberg     7\n",
       "Name: Director, dtype: int64"
      ]
     },
     "execution_count": 31,
     "metadata": {},
     "output_type": "execute_result"
    }
   ],
   "source": [
    "df['Director'].value_counts()[:5]"
   ]
  },
  {
   "cell_type": "code",
   "execution_count": 32,
   "id": "1dbbc31f",
   "metadata": {},
   "outputs": [
    {
     "data": {
      "text/plain": [
       "<AxesSubplot:>"
      ]
     },
     "execution_count": 32,
     "metadata": {},
     "output_type": "execute_result"
    },
    {
     "data": {
      "image/png": "[encoded data removed]",
      "text/plain": [
       "<Figure size 432x288 with 1 Axes>"
      ]
     },
     "metadata": {
      "needs_background": "light"
     },
     "output_type": "display_data"
    }
   ],
   "source": [
    "df['Director'].value_counts()[:5].plot(kind='bar',color='c')"
   ]
  },
  {
   "cell_type": "markdown",
   "id": "497344ac",
   "metadata": {},
   "source": [
    "- William Wyler has appeared 12 times in Oscar\n",
    "\n",
    "- Martin Scorsese has appeared 9 times in Oscar"
   ]
  },
  {
   "cell_type": "code",
   "execution_count": 33,
   "id": "aa627a6b",
   "metadata": {},
   "outputs": [
    {
     "data": {
      "text/plain": [
       "John Ford               4\n",
       "Frank Capra             3\n",
       "William Wyler           3\n",
       "Oliver Stone            2\n",
       "Joseph L. Mankiewicz    2\n",
       "Name: Director, dtype: int64"
      ]
     },
     "execution_count": 33,
     "metadata": {},
     "output_type": "execute_result"
    }
   ],
   "source": [
    "df[(df['Nomination/Winner']=='Winner')]['Director'].value_counts()[:5]"
   ]
  },
  {
   "cell_type": "code",
   "execution_count": 34,
   "id": "7b7e5fa7",
   "metadata": {},
   "outputs": [
    {
     "data": {
      "text/plain": [
       "<AxesSubplot:>"
      ]
     },
     "execution_count": 34,
     "metadata": {},
     "output_type": "execute_result"
    },
    {
     "data": {
      "image/png": "[encoded data removed]",
      "text/plain": [
       "<Figure size 432x288 with 1 Axes>"
      ]
     },
     "metadata": {
      "needs_background": "light"
     },
     "output_type": "display_data"
    }
   ],
   "source": [
    "df[(df['Nomination/Winner']=='Winner')]['Director'].value_counts()[:5].plot(kind='bar',color='g')"
   ]
  },
  {
   "cell_type": "markdown",
   "id": "95ab4011",
   "metadata": {},
   "source": [
    "- John Ford has won Oscar 4 times\n",
    "- Frank Capra & William Wyler has won Oscar 3 times"
   ]
  },
  {
   "cell_type": "code",
   "execution_count": 35,
   "id": "2fad4390",
   "metadata": {},
   "outputs": [
    {
     "data": {
      "text/plain": [
       "William Wyler      9\n",
       "Martin Scorsese    8\n",
       "Woody Allen        6\n",
       "Billy Wilder       6\n",
       "Clarence Brown     6\n",
       "Name: Director, dtype: int64"
      ]
     },
     "execution_count": 35,
     "metadata": {},
     "output_type": "execute_result"
    }
   ],
   "source": [
    "df[(df['Nomination/Winner']=='Nomination')]['Director'].value_counts()[:5]"
   ]
  },
  {
   "cell_type": "markdown",
   "id": "bd44621a",
   "metadata": {},
   "source": [
    "- William Wyler has nominated 9 times\n",
    "- Martin Scorsese has nominated 8 times\n",
    "- Woody Allen & Billy Wilder & clarence Brown has nominated 6 times"
   ]
  },
  {
   "cell_type": "code",
   "execution_count": 36,
   "id": "8eeb9346",
   "metadata": {},
   "outputs": [
    {
     "data": {
      "text/plain": [
       "1927    2\n",
       "Name: Year, dtype: int64"
      ]
     },
     "execution_count": 36,
     "metadata": {},
     "output_type": "execute_result"
    }
   ],
   "source": [
    "df[(df['Nomination/Winner']=='Winner')]['Year'].value_counts()[:1]"
   ]
  },
  {
   "cell_type": "code",
   "execution_count": 37,
   "id": "77b80b66",
   "metadata": {},
   "outputs": [
    {
     "data": {
      "text/html": [
       "<div>\n",
       "<style scoped>\n",
       "    .dataframe tbody tr th:only-of-type {\n",
       "        vertical-align: middle;\n",
       "    }\n",
       "\n",
       "    .dataframe tbody tr th {\n",
       "        vertical-align: top;\n",
       "    }\n",
       "\n",
       "    .dataframe thead th {\n",
       "        text-align: right;\n",
       "    }\n",
       "</style>\n",
       "<table border=\"1\" class=\"dataframe\">\n",
       "  <thead>\n",
       "    <tr style=\"text-align: right;\">\n",
       "      <th></th>\n",
       "      <th>Year</th>\n",
       "      <th>Gender</th>\n",
       "      <th>Race</th>\n",
       "      <th>Film</th>\n",
       "      <th>Nomination/Winner</th>\n",
       "      <th>Director</th>\n",
       "    </tr>\n",
       "  </thead>\n",
       "  <tbody>\n",
       "    <tr>\n",
       "      <th>0</th>\n",
       "      <td>1927</td>\n",
       "      <td>Male</td>\n",
       "      <td>White</td>\n",
       "      <td>7th Heaven</td>\n",
       "      <td>Winner</td>\n",
       "      <td>Frank Borzage</td>\n",
       "    </tr>\n",
       "    <tr>\n",
       "      <th>3</th>\n",
       "      <td>1927</td>\n",
       "      <td>Male</td>\n",
       "      <td>White</td>\n",
       "      <td>Two Arabian Knights</td>\n",
       "      <td>Winner</td>\n",
       "      <td>Lewis Milestone</td>\n",
       "    </tr>\n",
       "  </tbody>\n",
       "</table>\n",
       "</div>"
      ],
      "text/plain": [
       "   Year Gender   Race                 Film Nomination/Winner          Director\n",
       "0  1927   Male  White           7th Heaven            Winner    Frank Borzage \n",
       "3  1927   Male  White  Two Arabian Knights            Winner  Lewis Milestone "
      ]
     },
     "execution_count": 37,
     "metadata": {},
     "output_type": "execute_result"
    }
   ],
   "source": [
    "df[(df['Nomination/Winner']=='Winner')& (df['Year']=='1927')]"
   ]
  }
 ],
 "metadata": {
  "kernelspec": {
   "display_name": "Python 3 (ipykernel)",
   "language": "python",
   "name": "python3"
  },
  "language_info": {
   "codemirror_mode": {
    "name": "ipython",
    "version": 3
   },
   "file_extension": ".py",
   "mimetype": "text/x-python",
   "name": "python",
   "nbconvert_exporter": "python",
   "pygments_lexer": "ipython3",
   "version": "3.9.12"
  }
 },
 "nbformat": 4,
 "nbformat_minor": 5
}
